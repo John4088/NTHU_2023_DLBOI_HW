# Import necessary libraries
import torch
import torch.nn as nn
import numpy as np
from torch.utils.data import DataLoader, TensorDataset

# Load the test datasets
test_abnormal = np.load('test_pneumonia.npy')
test_normal = np.load('test_normal.npy')

# Assign labels to the datasets
test_abnormal_labels = np.ones((test_abnormal.shape[0],))
test_normal_labels = np.zeros((test_normal.shape[0],))

# Combine the datasets
x_test = np.concatenate((test_abnormal, test_normal), axis=0)
y_test = np.concatenate((test_abnormal_labels, test_normal_labels), axis=0)

# Convert datasets to PyTorch tensors
x_test = torch.tensor(x_test, dtype=torch.float32)
y_test = torch.tensor(y_test, dtype=torch.float32)

# Create a DataLoader for the test dataset
test_dataset = TensorDataset(x_test, y_test)
test_loader = DataLoader(test_dataset, batch_size=32, shuffle=True)

# Define the model architecture
model = nn.Sequential(
    nn.Flatten(),
    nn.Linear(256*256*1, 256),
    nn.ReLU(),
    nn.Linear(256, 2),  # Two output nodes for CE loss
    nn.Softmax(dim=1)  # Softmax activation for multi-class classification
).cuda()

# Load the trained model weights (assuming you have a file named 'model_weights.pth')
model.load_state_dict(torch.load('model_weights.pth'))
model.eval()

# Evaluate the model on the test dataset
correct = 0
total = 0
with torch.no_grad():
    for images, labels in test_loader:
        images = images.cuda()
        labels = labels.cuda().long()
        outputs = model(images)
        _, predicted = torch.max(outputs, 1)
        total += labels.size(0)
        correct += (predicted == labels).sum().item()

print(f"Accuracy of the model on test images: {100 * correct / total}%")
